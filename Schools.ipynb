{
 "cells": [
  {
   "cell_type": "markdown",
   "metadata": {},
   "source": [
    "# Read in the data"
   ]
  },
  {
   "cell_type": "code",
   "execution_count": 119,
   "metadata": {
    "collapsed": true
   },
   "outputs": [],
   "source": [
    "import pandas as pd\n",
    "import numpy\n",
    "import re\n",
    "\n",
    "data_files = [\n",
    "    \"ap_2010.csv\",\n",
    "    \"class_size.csv\",\n",
    "    \"demographics.csv\",\n",
    "    \"graduation.csv\",\n",
    "    \"hs_directory.csv\",\n",
    "    \"sat_results.csv\"\n",
    "]\n",
    "\n",
    "data = {}\n",
    "\n",
    "for f in data_files:\n",
    "    d = pd.read_csv(\"schools/{0}\".format(f))\n",
    "    data[f.replace(\".csv\", \"\")] = d"
   ]
  },
  {
   "cell_type": "markdown",
   "metadata": {},
   "source": [
    "# Read in the surveys"
   ]
  },
  {
   "cell_type": "code",
   "execution_count": 120,
   "metadata": {
    "collapsed": true
   },
   "outputs": [],
   "source": [
    "all_survey = pd.read_csv(\"schools/survey_all.txt\", delimiter=\"\\t\", encoding='windows-1252')\n",
    "d75_survey = pd.read_csv(\"schools/survey_d75.txt\", delimiter=\"\\t\", encoding='windows-1252')\n",
    "survey = pd.concat([all_survey, d75_survey], axis=0)\n",
    "\n",
    "survey[\"DBN\"] = survey[\"dbn\"]\n",
    "\n",
    "survey_fields = [\n",
    "    \"DBN\", \n",
    "    \"rr_s\", \n",
    "    \"rr_t\", \n",
    "    \"rr_p\", \n",
    "    \"N_s\", \n",
    "    \"N_t\", \n",
    "    \"N_p\", \n",
    "    \"saf_p_11\", \n",
    "    \"com_p_11\", \n",
    "    \"eng_p_11\", \n",
    "    \"aca_p_11\", \n",
    "    \"saf_t_11\", \n",
    "    \"com_t_11\", \n",
    "    \"eng_t_11\", \n",
    "    \"aca_t_11\", \n",
    "    \"saf_s_11\", \n",
    "    \"com_s_11\", \n",
    "    \"eng_s_11\", \n",
    "    \"aca_s_11\", \n",
    "    \"saf_tot_11\", \n",
    "    \"com_tot_11\", \n",
    "    \"eng_tot_11\", \n",
    "    \"aca_tot_11\",\n",
    "]\n",
    "survey = survey.loc[:,survey_fields]\n",
    "data[\"survey\"] = survey"
   ]
  },
  {
   "cell_type": "markdown",
   "metadata": {},
   "source": [
    "# Add DBN columns"
   ]
  },
  {
   "cell_type": "code",
   "execution_count": 121,
   "metadata": {
    "collapsed": true
   },
   "outputs": [],
   "source": [
    "data[\"hs_directory\"][\"DBN\"] = data[\"hs_directory\"][\"dbn\"]\n",
    "\n",
    "def pad_csd(num):\n",
    "    string_representation = str(num)\n",
    "    if len(string_representation) > 1:\n",
    "        return string_representation\n",
    "    else:\n",
    "        return \"0\" + string_representation\n",
    "    \n",
    "data[\"class_size\"][\"padded_csd\"] = data[\"class_size\"][\"CSD\"].apply(pad_csd)\n",
    "data[\"class_size\"][\"DBN\"] = data[\"class_size\"][\"padded_csd\"] + data[\"class_size\"][\"SCHOOL CODE\"]"
   ]
  },
  {
   "cell_type": "markdown",
   "metadata": {},
   "source": [
    "# Convert columns to numeric"
   ]
  },
  {
   "cell_type": "code",
   "execution_count": 122,
   "metadata": {
    "collapsed": true
   },
   "outputs": [],
   "source": [
    "cols = ['SAT Math Avg. Score', 'SAT Critical Reading Avg. Score', 'SAT Writing Avg. Score']\n",
    "for c in cols:\n",
    "    data[\"sat_results\"][c] = pd.to_numeric(data[\"sat_results\"][c], errors=\"coerce\")\n",
    "\n",
    "data['sat_results']['sat_score'] = data['sat_results'][cols[0]] + data['sat_results'][cols[1]] + data['sat_results'][cols[2]]\n",
    "\n",
    "def find_lat(loc):\n",
    "    coords = re.findall(\"\\(.+, .+\\)\", loc)\n",
    "    lat = coords[0].split(\",\")[0].replace(\"(\", \"\")\n",
    "    return lat\n",
    "\n",
    "def find_lon(loc):\n",
    "    coords = re.findall(\"\\(.+, .+\\)\", loc)\n",
    "    lon = coords[0].split(\",\")[1].replace(\")\", \"\").strip()\n",
    "    return lon\n",
    "\n",
    "data[\"hs_directory\"][\"lat\"] = data[\"hs_directory\"][\"Location 1\"].apply(find_lat)\n",
    "data[\"hs_directory\"][\"lon\"] = data[\"hs_directory\"][\"Location 1\"].apply(find_lon)\n",
    "\n",
    "data[\"hs_directory\"][\"lat\"] = pd.to_numeric(data[\"hs_directory\"][\"lat\"], errors=\"coerce\")\n",
    "data[\"hs_directory\"][\"lon\"] = pd.to_numeric(data[\"hs_directory\"][\"lon\"], errors=\"coerce\")"
   ]
  },
  {
   "cell_type": "markdown",
   "metadata": {},
   "source": [
    "# Condense datasets"
   ]
  },
  {
   "cell_type": "code",
   "execution_count": 123,
   "metadata": {
    "collapsed": true
   },
   "outputs": [],
   "source": [
    "class_size = data[\"class_size\"]\n",
    "class_size = class_size[class_size[\"GRADE \"] == \"09-12\"]\n",
    "class_size = class_size[class_size[\"PROGRAM TYPE\"] == \"GEN ED\"]\n",
    "\n",
    "class_size = class_size.groupby(\"DBN\").agg(numpy.mean)\n",
    "class_size.reset_index(inplace=True)\n",
    "data[\"class_size\"] = class_size\n",
    "\n",
    "data[\"demographics\"] = data[\"demographics\"][data[\"demographics\"][\"schoolyear\"] == 20112012]\n",
    "\n",
    "data[\"graduation\"] = data[\"graduation\"][data[\"graduation\"][\"Cohort\"] == \"2006\"]\n",
    "data[\"graduation\"] = data[\"graduation\"][data[\"graduation\"][\"Demographic\"] == \"Total Cohort\"]"
   ]
  },
  {
   "cell_type": "markdown",
   "metadata": {},
   "source": [
    "# Convert AP scores to numeric"
   ]
  },
  {
   "cell_type": "code",
   "execution_count": 124,
   "metadata": {
    "collapsed": true
   },
   "outputs": [],
   "source": [
    "cols = ['AP Test Takers ', 'Total Exams Taken', 'Number of Exams with scores 3 4 or 5']\n",
    "\n",
    "for col in cols:\n",
    "    data[\"ap_2010\"][col] = pd.to_numeric(data[\"ap_2010\"][col], errors=\"coerce\")"
   ]
  },
  {
   "cell_type": "markdown",
   "metadata": {},
   "source": [
    "# Combine the datasets"
   ]
  },
  {
   "cell_type": "code",
   "execution_count": 125,
   "metadata": {
    "collapsed": true
   },
   "outputs": [],
   "source": [
    "combined = data[\"sat_results\"]\n",
    "\n",
    "combined = combined.merge(data[\"ap_2010\"], on=\"DBN\", how=\"left\")\n",
    "combined = combined.merge(data[\"graduation\"], on=\"DBN\", how=\"left\")\n",
    "\n",
    "to_merge = [\"class_size\", \"demographics\", \"survey\", \"hs_directory\"]\n",
    "\n",
    "for m in to_merge:\n",
    "    combined = combined.merge(data[m], on=\"DBN\", how=\"inner\")\n",
    "\n",
    "combined = combined.fillna(combined.mean())\n",
    "combined = combined.fillna(0)"
   ]
  },
  {
   "cell_type": "markdown",
   "metadata": {},
   "source": [
    "# Add a school district column for mapping"
   ]
  },
  {
   "cell_type": "code",
   "execution_count": 126,
   "metadata": {
    "collapsed": true
   },
   "outputs": [],
   "source": [
    "def get_first_two_chars(dbn):\n",
    "    return dbn[0:2]\n",
    "\n",
    "combined[\"school_dist\"] = combined[\"DBN\"].apply(get_first_two_chars)"
   ]
  },
  {
   "cell_type": "markdown",
   "metadata": {},
   "source": [
    "# Find correlations"
   ]
  },
  {
   "cell_type": "code",
   "execution_count": 127,
   "metadata": {
    "collapsed": false
   },
   "outputs": [
    {
     "name": "stdout",
     "output_type": "stream",
     "text": [
      "SAT Critical Reading Avg. Score         0.986820\n",
      "SAT Math Avg. Score                     0.972643\n",
      "SAT Writing Avg. Score                  0.987771\n",
      "sat_score                               1.000000\n",
      "AP Test Takers                          0.523140\n",
      "Total Exams Taken                       0.514333\n",
      "Number of Exams with scores 3 4 or 5    0.463245\n",
      "Total Cohort                            0.325144\n",
      "CSD                                     0.042948\n",
      "NUMBER OF STUDENTS / SEATS FILLED       0.394626\n",
      "NUMBER OF SECTIONS                      0.362673\n",
      "AVERAGE CLASS SIZE                      0.381014\n",
      "SIZE OF SMALLEST CLASS                  0.249949\n",
      "SIZE OF LARGEST CLASS                   0.314434\n",
      "SCHOOLWIDE PUPIL-TEACHER RATIO               NaN\n",
      "schoolyear                                   NaN\n",
      "fl_percent                                   NaN\n",
      "frl_percent                            -0.722225\n",
      "total_enrollment                        0.367857\n",
      "ell_num                                -0.153778\n",
      "ell_percent                            -0.398750\n",
      "sped_num                                0.034933\n",
      "sped_percent                           -0.448170\n",
      "asian_num                               0.475445\n",
      "asian_per                               0.570730\n",
      "black_num                               0.027979\n",
      "black_per                              -0.284139\n",
      "hispanic_num                            0.025744\n",
      "hispanic_per                           -0.396985\n",
      "white_num                               0.449559\n",
      "                                          ...   \n",
      "rr_p                                    0.047925\n",
      "N_s                                     0.423463\n",
      "N_t                                     0.291463\n",
      "N_p                                     0.421530\n",
      "saf_p_11                                0.122913\n",
      "com_p_11                               -0.115073\n",
      "eng_p_11                                0.020254\n",
      "aca_p_11                                0.035155\n",
      "saf_t_11                                0.313810\n",
      "com_t_11                                0.082419\n",
      "eng_t_11                                0.036906\n",
      "aca_t_11                                0.132348\n",
      "saf_s_11                                0.337639\n",
      "com_s_11                                0.187370\n",
      "eng_s_11                                0.213822\n",
      "aca_s_11                                0.339435\n",
      "saf_tot_11                              0.318753\n",
      "com_tot_11                              0.077310\n",
      "eng_tot_11                              0.100102\n",
      "aca_tot_11                              0.190966\n",
      "grade_span_max                               NaN\n",
      "expgrade_span_max                            NaN\n",
      "zip                                    -0.063977\n",
      "total_students                          0.407827\n",
      "number_programs                         0.117012\n",
      "priority08                                   NaN\n",
      "priority09                                   NaN\n",
      "priority10                                   NaN\n",
      "lat                                    -0.121029\n",
      "lon                                    -0.132222\n",
      "Name: sat_score, Length: 67, dtype: float64\n"
     ]
    }
   ],
   "source": [
    "correlations = combined.corr()\n",
    "correlations = correlations[\"sat_score\"]\n",
    "print(correlations)"
   ]
  },
  {
   "cell_type": "markdown",
   "metadata": {},
   "source": [
    "# Plotting survey correlations"
   ]
  },
  {
   "cell_type": "code",
   "execution_count": 128,
   "metadata": {
    "collapsed": true
   },
   "outputs": [],
   "source": [
    "# Remove DBN since it's a unique identifier, not a useful numerical value for correlation.\n",
    "survey_fields.remove(\"DBN\")"
   ]
  },
  {
   "cell_type": "code",
   "execution_count": 129,
   "metadata": {
    "collapsed": true
   },
   "outputs": [],
   "source": [
    "import matplotlib.pyplot as plt\n",
    "%matplotlib inline"
   ]
  },
  {
   "cell_type": "code",
   "execution_count": 130,
   "metadata": {
    "collapsed": false,
    "scrolled": false
   },
   "outputs": [
    {
     "data": {
      "text/plain": [
       "<matplotlib.axes._subplots.AxesSubplot at 0x7f787fece8d0>"
      ]
     },
     "execution_count": 130,
     "metadata": {},
     "output_type": "execute_result"
    },
    {
     "data": {
      "image/png": "[encoded data removed]",
      "text/plain": [
       "<matplotlib.figure.Figure at 0x7f787fec5828>"
      ]
     },
     "metadata": {},
     "output_type": "display_data"
    }
   ],
   "source": [
    "plt.figure(figsize=(10,10))\n",
    "correlations.loc[survey_fields].plot(kind='bar')"
   ]
  },
  {
   "cell_type": "markdown",
   "metadata": {},
   "source": [
    "## Observations\n",
    "\n",
    "* The columns that correlate the most are Number of Student Respondents and Number of Parent Respondents\n",
    "* Surprisingly, the communication score based on parent responses has a negative correlation when all other veriables tend to a more positive corr\n",
    "* It's curious how the parents academic expectations are correlated so low with sat scores and logically students expectations are correlated much higher and teacher expectations are in the middle\n"
   ]
  },
  {
   "cell_type": "code",
   "execution_count": 131,
   "metadata": {
    "collapsed": false
   },
   "outputs": [
    {
     "data": {
      "text/plain": [
       "<matplotlib.axes._subplots.AxesSubplot at 0x7f787ffa7780>"
      ]
     },
     "execution_count": 131,
     "metadata": {},
     "output_type": "execute_result"
    },
    {
     "data": {
      "image/png": "[encoded data removed]",
      "text/plain": [
       "<matplotlib.figure.Figure at 0x7f787ffb02e8>"
      ]
     },
     "metadata": {},
     "output_type": "display_data"
    }
   ],
   "source": [
    "combined.plot.scatter(x='saf_s_11', y='sat_score')"
   ]
  },
  {
   "cell_type": "markdown",
   "metadata": {},
   "source": [
    "## Observations\n",
    "\n",
    "* There is a brief tendency that if there is a higher score for safety ther is a higher sat_score, however datapoints are very sparse\n",
    "* Correlation is really poor, I wouldn't consider this as correlated variables."
   ]
  },
  {
   "cell_type": "code",
   "execution_count": 132,
   "metadata": {
    "collapsed": false
   },
   "outputs": [],
   "source": [
    "grouped = combined.groupby('school_dist').agg(numpy.mean)\n",
    "grouped.reset_index(inplace=True)"
   ]
  },
  {
   "cell_type": "code",
   "execution_count": 133,
   "metadata": {
    "collapsed": false
   },
   "outputs": [
    {
     "data": {
      "text/html": [
       "<div>\n",
       "<style scoped>\n",
       "    .dataframe tbody tr th:only-of-type {\n",
       "        vertical-align: middle;\n",
       "    }\n",
       "\n",
       "    .dataframe tbody tr th {\n",
       "        vertical-align: top;\n",
       "    }\n",
       "\n",
       "    .dataframe thead th {\n",
       "        text-align: right;\n",
       "    }\n",
       "</style>\n",
       "<table border=\"1\" class=\"dataframe\">\n",
       "  <thead>\n",
       "    <tr style=\"text-align: right;\">\n",
       "      <th></th>\n",
       "      <th>school_dist</th>\n",
       "      <th>SAT Critical Reading Avg. Score</th>\n",
       "      <th>SAT Math Avg. Score</th>\n",
       "      <th>SAT Writing Avg. Score</th>\n",
       "      <th>sat_score</th>\n",
       "      <th>AP Test Takers</th>\n",
       "      <th>Total Exams Taken</th>\n",
       "      <th>Number of Exams with scores 3 4 or 5</th>\n",
       "      <th>Total Cohort</th>\n",
       "      <th>CSD</th>\n",
       "      <th>...</th>\n",
       "      <th>grade_span_max</th>\n",
       "      <th>expgrade_span_max</th>\n",
       "      <th>zip</th>\n",
       "      <th>total_students</th>\n",
       "      <th>number_programs</th>\n",
       "      <th>priority08</th>\n",
       "      <th>priority09</th>\n",
       "      <th>priority10</th>\n",
       "      <th>lat</th>\n",
       "      <th>lon</th>\n",
       "    </tr>\n",
       "  </thead>\n",
       "  <tbody>\n",
       "    <tr>\n",
       "      <th>0</th>\n",
       "      <td>01</td>\n",
       "      <td>441.833333</td>\n",
       "      <td>473.333333</td>\n",
       "      <td>439.333333</td>\n",
       "      <td>1354.500000</td>\n",
       "      <td>116.681090</td>\n",
       "      <td>173.019231</td>\n",
       "      <td>135.800000</td>\n",
       "      <td>93.500000</td>\n",
       "      <td>1.0</td>\n",
       "      <td>...</td>\n",
       "      <td>12.0</td>\n",
       "      <td>12.0</td>\n",
       "      <td>10003.166667</td>\n",
       "      <td>659.500000</td>\n",
       "      <td>1.333333</td>\n",
       "      <td>0.0</td>\n",
       "      <td>0.0</td>\n",
       "      <td>0.0</td>\n",
       "      <td>40.719022</td>\n",
       "      <td>-73.982377</td>\n",
       "    </tr>\n",
       "    <tr>\n",
       "      <th>1</th>\n",
       "      <td>02</td>\n",
       "      <td>426.619092</td>\n",
       "      <td>444.186256</td>\n",
       "      <td>424.832836</td>\n",
       "      <td>1295.638184</td>\n",
       "      <td>128.908454</td>\n",
       "      <td>201.516827</td>\n",
       "      <td>157.495833</td>\n",
       "      <td>158.647849</td>\n",
       "      <td>2.0</td>\n",
       "      <td>...</td>\n",
       "      <td>12.0</td>\n",
       "      <td>12.0</td>\n",
       "      <td>10023.770833</td>\n",
       "      <td>621.395833</td>\n",
       "      <td>1.416667</td>\n",
       "      <td>0.0</td>\n",
       "      <td>0.0</td>\n",
       "      <td>0.0</td>\n",
       "      <td>40.739699</td>\n",
       "      <td>-73.991386</td>\n",
       "    </tr>\n",
       "    <tr>\n",
       "      <th>2</th>\n",
       "      <td>03</td>\n",
       "      <td>428.529851</td>\n",
       "      <td>437.997512</td>\n",
       "      <td>426.915672</td>\n",
       "      <td>1293.443035</td>\n",
       "      <td>156.183494</td>\n",
       "      <td>244.522436</td>\n",
       "      <td>193.087500</td>\n",
       "      <td>183.384409</td>\n",
       "      <td>3.0</td>\n",
       "      <td>...</td>\n",
       "      <td>12.0</td>\n",
       "      <td>12.0</td>\n",
       "      <td>10023.750000</td>\n",
       "      <td>717.916667</td>\n",
       "      <td>2.000000</td>\n",
       "      <td>0.0</td>\n",
       "      <td>0.0</td>\n",
       "      <td>0.0</td>\n",
       "      <td>40.781574</td>\n",
       "      <td>-73.977370</td>\n",
       "    </tr>\n",
       "    <tr>\n",
       "      <th>3</th>\n",
       "      <td>04</td>\n",
       "      <td>402.142857</td>\n",
       "      <td>416.285714</td>\n",
       "      <td>405.714286</td>\n",
       "      <td>1224.142857</td>\n",
       "      <td>129.016484</td>\n",
       "      <td>183.879121</td>\n",
       "      <td>151.035714</td>\n",
       "      <td>113.857143</td>\n",
       "      <td>4.0</td>\n",
       "      <td>...</td>\n",
       "      <td>12.0</td>\n",
       "      <td>12.0</td>\n",
       "      <td>10029.857143</td>\n",
       "      <td>580.857143</td>\n",
       "      <td>1.142857</td>\n",
       "      <td>0.0</td>\n",
       "      <td>0.0</td>\n",
       "      <td>0.0</td>\n",
       "      <td>40.793449</td>\n",
       "      <td>-73.943215</td>\n",
       "    </tr>\n",
       "    <tr>\n",
       "      <th>4</th>\n",
       "      <td>05</td>\n",
       "      <td>427.159915</td>\n",
       "      <td>438.236674</td>\n",
       "      <td>419.666098</td>\n",
       "      <td>1285.062687</td>\n",
       "      <td>85.722527</td>\n",
       "      <td>115.725275</td>\n",
       "      <td>142.464286</td>\n",
       "      <td>143.677419</td>\n",
       "      <td>5.0</td>\n",
       "      <td>...</td>\n",
       "      <td>12.0</td>\n",
       "      <td>12.0</td>\n",
       "      <td>10030.142857</td>\n",
       "      <td>609.857143</td>\n",
       "      <td>1.142857</td>\n",
       "      <td>0.0</td>\n",
       "      <td>0.0</td>\n",
       "      <td>0.0</td>\n",
       "      <td>40.817077</td>\n",
       "      <td>-73.949251</td>\n",
       "    </tr>\n",
       "  </tbody>\n",
       "</table>\n",
       "<p>5 rows × 68 columns</p>\n",
       "</div>"
      ],
      "text/plain": [
       "  school_dist  SAT Critical Reading Avg. Score  SAT Math Avg. Score  \\\n",
       "0          01                       441.833333           473.333333   \n",
       "1          02                       426.619092           444.186256   \n",
       "2          03                       428.529851           437.997512   \n",
       "3          04                       402.142857           416.285714   \n",
       "4          05                       427.159915           438.236674   \n",
       "\n",
       "   SAT Writing Avg. Score    sat_score  AP Test Takers   Total Exams Taken  \\\n",
       "0              439.333333  1354.500000       116.681090         173.019231   \n",
       "1              424.832836  1295.638184       128.908454         201.516827   \n",
       "2              426.915672  1293.443035       156.183494         244.522436   \n",
       "3              405.714286  1224.142857       129.016484         183.879121   \n",
       "4              419.666098  1285.062687        85.722527         115.725275   \n",
       "\n",
       "   Number of Exams with scores 3 4 or 5  Total Cohort  CSD    ...      \\\n",
       "0                            135.800000     93.500000  1.0    ...       \n",
       "1                            157.495833    158.647849  2.0    ...       \n",
       "2                            193.087500    183.384409  3.0    ...       \n",
       "3                            151.035714    113.857143  4.0    ...       \n",
       "4                            142.464286    143.677419  5.0    ...       \n",
       "\n",
       "   grade_span_max  expgrade_span_max           zip  total_students  \\\n",
       "0            12.0               12.0  10003.166667      659.500000   \n",
       "1            12.0               12.0  10023.770833      621.395833   \n",
       "2            12.0               12.0  10023.750000      717.916667   \n",
       "3            12.0               12.0  10029.857143      580.857143   \n",
       "4            12.0               12.0  10030.142857      609.857143   \n",
       "\n",
       "   number_programs  priority08  priority09  priority10        lat        lon  \n",
       "0         1.333333         0.0         0.0         0.0  40.719022 -73.982377  \n",
       "1         1.416667         0.0         0.0         0.0  40.739699 -73.991386  \n",
       "2         2.000000         0.0         0.0         0.0  40.781574 -73.977370  \n",
       "3         1.142857         0.0         0.0         0.0  40.793449 -73.943215  \n",
       "4         1.142857         0.0         0.0         0.0  40.817077 -73.949251  \n",
       "\n",
       "[5 rows x 68 columns]"
      ]
     },
     "execution_count": 133,
     "metadata": {},
     "output_type": "execute_result"
    }
   ],
   "source": [
    "grouped.head()"
   ]
  },
  {
   "cell_type": "code",
   "execution_count": 134,
   "metadata": {
    "collapsed": false
   },
   "outputs": [],
   "source": [
    "from mpl_toolkits.basemap import Basemap\n",
    "m = Basemap(\n",
    "    projection='merc', \n",
    "    llcrnrlat=40.496044, \n",
    "    urcrnrlat=40.915256, \n",
    "    llcrnrlon=-74.255735, \n",
    "    urcrnrlon=-73.700272,\n",
    "    resolution='i'\n",
    ")"
   ]
  },
  {
   "cell_type": "code",
   "execution_count": 135,
   "metadata": {
    "collapsed": false
   },
   "outputs": [
    {
     "data": {
      "text/plain": [
       "<matplotlib.collections.PathCollection at 0x7f78802cae10>"
      ]
     },
     "execution_count": 135,
     "metadata": {},
     "output_type": "execute_result"
    },
    {
     "data": {
      "image/png": "[encoded data removed]",
      "text/plain": [
       "<matplotlib.figure.Figure at 0x7f787ffa7518>"
      ]
     },
     "metadata": {},
     "output_type": "display_data"
    }
   ],
   "source": [
    "m.drawmapboundary(fill_color='#85A6D9')\n",
    "m.drawcoastlines(color='#6D5F47', linewidth=.6)\n",
    "m.drawrivers(color='#6D5F47', linewidth=.4)\n",
    "\n",
    "longitudes = grouped['lon'].tolist()\n",
    "latitudes = grouped['lat'].tolist()\n",
    "\n",
    "m.scatter(longitudes, latitudes, s=50, zorder=2, latlon=True, c=grouped['saf_s_11'], cmap='summer')\n"
   ]
  },
  {
   "cell_type": "markdown",
   "metadata": {},
   "source": [
    "## Observations\n",
    "\n",
    "* There's a greater concentration of low scores for safety in the Brooklyn area\n",
    "* The highest scores for safety apparently are found in Manhattan\n",
    "* Queens has districts with low and high safety scores"
   ]
  },
  {
   "cell_type": "code",
   "execution_count": 136,
   "metadata": {
    "collapsed": false
   },
   "outputs": [
    {
     "data": {
      "text/plain": [
       "<matplotlib.axes._subplots.AxesSubplot at 0x7f7880297e10>"
      ]
     },
     "execution_count": 136,
     "metadata": {},
     "output_type": "execute_result"
    },
    {
     "data": {
      "image/png": "[encoded data removed]",
      "text/plain": [
       "<matplotlib.figure.Figure at 0x7f787fec06a0>"
      ]
     },
     "metadata": {},
     "output_type": "display_data"
    }
   ],
   "source": [
    "plt.figure(figsize=(10,10))\n",
    "fields=['white_per','asian_per','black_per','hispanic_per']\n",
    "correlations.loc[fields].plot(kind='bar')"
   ]
  },
  {
   "cell_type": "markdown",
   "metadata": {},
   "source": [
    "## Observations\n",
    "* There is a noticeable difference in the corralations between race group.\n",
    "* White and Asian groups have a strong positive correlation, which means that if the school has more white and asian people, the sat scores increase.\n",
    "* Black and Hispanic race groups are the other side of the coin, they have a negative correlation. This means that the more black or hispanic percentage in a school, the more the sat scores drop."
   ]
  },
  {
   "cell_type": "code",
   "execution_count": 137,
   "metadata": {
    "collapsed": false
   },
   "outputs": [
    {
     "data": {
      "text/plain": [
       "<matplotlib.axes._subplots.AxesSubplot at 0x7f78802af438>"
      ]
     },
     "execution_count": 137,
     "metadata": {},
     "output_type": "execute_result"
    },
    {
     "data": {
      "image/png": "[encoded data removed]",
      "text/plain": [
       "<matplotlib.figure.Figure at 0x7f78802a9b38>"
      ]
     },
     "metadata": {},
     "output_type": "display_data"
    }
   ],
   "source": [
    "combined.plot.scatter(x='hispanic_per', y='sat_score')"
   ]
  },
  {
   "cell_type": "markdown",
   "metadata": {},
   "source": [
    "## Observations\n",
    "\n",
    "* the scatter plot shows a marked negative correlation, however the're many points that show no correlation with the percentage of hispanics.\n",
    "* The're schools with 100% hispanics, this means that the school is probably a spanish speaking school that teaches english and this explains the low sat scores.\n",
    "* There's apparently a baseline of an average sat score of 1200 points, which is probably lower than other race groups like white and asian."
   ]
  },
  {
   "cell_type": "code",
   "execution_count": 138,
   "metadata": {
    "collapsed": false
   },
   "outputs": [
    {
     "data": {
      "text/plain": [
       "44                         MANHATTAN BRIDGES HIGH SCHOOL\n",
       "82      WASHINGTON HEIGHTS EXPEDITIONARY LEARNING SCHOOL\n",
       "89     GREGORIO LUPERON HIGH SCHOOL FOR SCIENCE AND M...\n",
       "125                  ACADEMY FOR LANGUAGE AND TECHNOLOGY\n",
       "141                INTERNATIONAL SCHOOL FOR LIBERAL ARTS\n",
       "176     PAN AMERICAN INTERNATIONAL HIGH SCHOOL AT MONROE\n",
       "253                            MULTICULTURAL HIGH SCHOOL\n",
       "286               PAN AMERICAN INTERNATIONAL HIGH SCHOOL\n",
       "Name: SCHOOL NAME, dtype: object"
      ]
     },
     "execution_count": 138,
     "metadata": {},
     "output_type": "execute_result"
    }
   ],
   "source": [
    "combined.loc[combined['hispanic_per'] > 95,'SCHOOL NAME']"
   ]
  },
  {
   "cell_type": "markdown",
   "metadata": {},
   "source": [
    "## Observations\n",
    "\n",
    "* Almost all schools mentioned that there an immigrant oriented school that accepts stundents who have Spanish as their main lenguage\n",
    "* Only WASHINGTON HEIGHTS EXPEDITIONARY LEARNING SCHOOL presents itself as a normal school not oriented specifically for hispanic immigrants, however, they have a very high hispanic percentage. "
   ]
  },
  {
   "cell_type": "code",
   "execution_count": 139,
   "metadata": {
    "collapsed": false
   },
   "outputs": [
    {
     "data": {
      "text/plain": [
       "37                                STUYVESANT HIGH SCHOOL\n",
       "46       HIGH SCHOOL FOR DUAL LANGUAGE AND ASIAN STUDIES\n",
       "151                         BRONX HIGH SCHOOL OF SCIENCE\n",
       "187                       BROOKLYN TECHNICAL HIGH SCHOOL\n",
       "192                          BEDFORD ACADEMY HIGH SCHOOL\n",
       "194                            BENJAMIN BANNEKER ACADEMY\n",
       "220                           BOYS AND GIRLS HIGH SCHOOL\n",
       "223    ACADEMY FOR COLLEGE PREPARATION AND CAREER EXP...\n",
       "226               THE HIGH SCHOOL FOR GLOBAL CITIZENSHIP\n",
       "227                         SCHOOL FOR HUMAN RIGHTS, THE\n",
       "228                  SCHOOL FOR DEMOCRACY AND LEADERSHIP\n",
       "229    HIGH SCHOOL FOR YOUTH AND COMMUNITY DEVELOPMEN...\n",
       "230        HIGH SCHOOL FOR SERVICE & LEARNING AT ERASMUS\n",
       "231    SCIENCE, TECHNOLOGY AND RESEARCH EARLY COLLEGE...\n",
       "235              MEDGAR EVERS COLLEGE PREPARATORY SCHOOL\n",
       "236                             CLARA BARTON HIGH SCHOOL\n",
       "237                           IT TAKES A VILLAGE ACADEMY\n",
       "238                           BROOKLYN GENERATION SCHOOL\n",
       "240              KURT HAHN EXPEDITIONARY LEARNING SCHOOL\n",
       "241                       VICTORY COLLEGIATE HIGH SCHOOL\n",
       "242                     ARTS & MEDIA PREPARATORY ACADEMY\n",
       "280          BROOKLYN COLLEGIATE: A COLLEGE BOARD SCHOOL\n",
       "327    QUEENS HIGH SCHOOL FOR THE SCIENCES AT YORK CO...\n",
       "330                           QUEENS PREPARATORY ACADEMY\n",
       "331    PATHWAYS COLLEGE PREPARATORY SCHOOL: A COLLEGE...\n",
       "332                    EXCELSIOR PREPARATORY HIGH SCHOOL\n",
       "335                              CAMBRIA HEIGHTS ACADEMY\n",
       "337                 HUMANITIES & ARTS MAGNET HIGH SCHOOL\n",
       "353                              TOTTENVILLE HIGH SCHOOL\n",
       "356                  STATEN ISLAND TECHNICAL HIGH SCHOOL\n",
       "Name: SCHOOL NAME, dtype: object"
      ]
     },
     "execution_count": 139,
     "metadata": {},
     "output_type": "execute_result"
    }
   ],
   "source": [
    "combined.loc[combined['hispanic_per'] < 10,'SCHOOL NAME']"
   ]
  },
  {
   "cell_type": "markdown",
   "metadata": {},
   "source": [
    "## Observations\n",
    "\n",
    "* A percentage of the schools with low hispanic population are top tier school with high academic standards. \n",
    "* Other schools on the list don't present any type of particularity, some are normal schools with no specific population target but may be located in specific neighborhoods that a certain race group is predominantly present. \n",
    "* Some of the schools target other types of race populations like black and asian people. "
   ]
  },
  {
   "cell_type": "code",
   "execution_count": 140,
   "metadata": {
    "collapsed": false
   },
   "outputs": [
    {
     "data": {
      "text/plain": [
       "<matplotlib.axes._subplots.AxesSubplot at 0x7f787fe787b8>"
      ]
     },
     "execution_count": 140,
     "metadata": {},
     "output_type": "execute_result"
    },
    {
     "data": {
      "image/png": "[encoded data removed]",
      "text/plain": [
       "<matplotlib.figure.Figure at 0x7f787fdab160>"
      ]
     },
     "metadata": {},
     "output_type": "display_data"
    }
   ],
   "source": [
    "plt.figure(figsize=(6,6))\n",
    "correlations.loc[['male_per','female_per']].plot(kind='bar')"
   ]
  },
  {
   "cell_type": "markdown",
   "metadata": {},
   "source": [
    "## Observations\n",
    "\n",
    "* There is no significant correlation between gender and sat scores\n",
    "* There's a slightly positive correlation in favor of women and a negative correlation for men"
   ]
  },
  {
   "cell_type": "code",
   "execution_count": 141,
   "metadata": {
    "collapsed": false
   },
   "outputs": [
    {
     "data": {
      "text/plain": [
       "<matplotlib.axes._subplots.AxesSubplot at 0x7f787fe5cc50>"
      ]
     },
     "execution_count": 141,
     "metadata": {},
     "output_type": "execute_result"
    },
    {
     "data": {
      "image/png": "[encoded data removed]",
      "text/plain": [
       "<matplotlib.figure.Figure at 0x7f787ffb6518>"
      ]
     },
     "metadata": {},
     "output_type": "display_data"
    }
   ],
   "source": [
    "combined.plot.scatter(x='female_per', y='sat_score')"
   ]
  },
  {
   "cell_type": "markdown",
   "metadata": {},
   "source": [
    "## Observations\n",
    "\n",
    "* Scatter plots shows clearly the mayority of schools with a balanced percentage of women, where most data points concentrate in the middle 50 %\n",
    "* Schools with highest sat scores are also near 50% female percentage\n",
    "* Schools with mayority of women tend to score average in sat scores\n",
    "* Schools with minority of women tend to score below average in sat scores"
   ]
  },
  {
   "cell_type": "code",
   "execution_count": 142,
   "metadata": {
    "collapsed": false
   },
   "outputs": [
    {
     "data": {
      "text/plain": [
       "5                         BARD HIGH SCHOOL EARLY COLLEGE\n",
       "26                         ELEANOR ROOSEVELT HIGH SCHOOL\n",
       "60                                    BEACON HIGH SCHOOL\n",
       "61     FIORELLO H. LAGUARDIA HIGH SCHOOL OF MUSIC & A...\n",
       "302                          TOWNSEND HARRIS HIGH SCHOOL\n",
       "Name: SCHOOL NAME, dtype: object"
      ]
     },
     "execution_count": 142,
     "metadata": {},
     "output_type": "execute_result"
    }
   ],
   "source": [
    "combined.loc[(combined['female_per'] > 60) & (combined['sat_score'] > 1700),'SCHOOL NAME']"
   ]
  },
  {
   "cell_type": "markdown",
   "metadata": {},
   "source": [
    "## Observations\n",
    "\n",
    "* Schools with high sat scores and hight female percentage are most likely top notch schools\n",
    "* Almost all schools present oportunities to take college classes and even socially integrate with college students\n",
    "* Most schools have a special and different way of theaching, they are implementing innovative ways to learn. "
   ]
  },
  {
   "cell_type": "code",
   "execution_count": 143,
   "metadata": {
    "collapsed": false
   },
   "outputs": [],
   "source": [
    "combined['ap_per'] = combined['AP Test Takers '] / combined['total_enrollment']"
   ]
  },
  {
   "cell_type": "code",
   "execution_count": 144,
   "metadata": {
    "collapsed": false
   },
   "outputs": [
    {
     "data": {
      "text/plain": [
       "<matplotlib.axes._subplots.AxesSubplot at 0x7f787ffe25f8>"
      ]
     },
     "execution_count": 144,
     "metadata": {},
     "output_type": "execute_result"
    },
    {
     "data": {
      "image/png": "[encoded data removed]",
      "text/plain": [
       "<matplotlib.figure.Figure at 0x7f788026a5f8>"
      ]
     },
     "metadata": {},
     "output_type": "display_data"
    }
   ],
   "source": [
    "combined.plot.scatter(x='ap_per', y='sat_score')"
   ]
  },
  {
   "cell_type": "code",
   "execution_count": 145,
   "metadata": {
    "collapsed": false
   },
   "outputs": [
    {
     "data": {
      "text/html": [
       "<div>\n",
       "<style scoped>\n",
       "    .dataframe tbody tr th:only-of-type {\n",
       "        vertical-align: middle;\n",
       "    }\n",
       "\n",
       "    .dataframe tbody tr th {\n",
       "        vertical-align: top;\n",
       "    }\n",
       "\n",
       "    .dataframe thead th {\n",
       "        text-align: right;\n",
       "    }\n",
       "</style>\n",
       "<table border=\"1\" class=\"dataframe\">\n",
       "  <thead>\n",
       "    <tr style=\"text-align: right;\">\n",
       "      <th></th>\n",
       "      <th>sat_score</th>\n",
       "      <th>ap_per</th>\n",
       "    </tr>\n",
       "  </thead>\n",
       "  <tbody>\n",
       "    <tr>\n",
       "      <th>sat_score</th>\n",
       "      <td>1.000000</td>\n",
       "      <td>0.057171</td>\n",
       "    </tr>\n",
       "    <tr>\n",
       "      <th>ap_per</th>\n",
       "      <td>0.057171</td>\n",
       "      <td>1.000000</td>\n",
       "    </tr>\n",
       "  </tbody>\n",
       "</table>\n",
       "</div>"
      ],
      "text/plain": [
       "           sat_score    ap_per\n",
       "sat_score   1.000000  0.057171\n",
       "ap_per      0.057171  1.000000"
      ]
     },
     "execution_count": 145,
     "metadata": {},
     "output_type": "execute_result"
    }
   ],
   "source": [
    "combined[['sat_score','ap_per']].corr()"
   ]
  },
  {
   "cell_type": "markdown",
   "metadata": {},
   "source": [
    "## Observations\n",
    "* There are no clear relationships between the ap test percentage and the sat score.\n",
    "* Some data points does present a positive slope by the time the ap_per increases, but there is not enough data points with this patter to support any theory that the more you increase ap_per the better the sat scores"
   ]
  },
  {
   "cell_type": "code",
   "execution_count": 146,
   "metadata": {
    "collapsed": false,
    "scrolled": true
   },
   "outputs": [
    {
     "data": {
      "text/plain": [
       "<matplotlib.axes._subplots.AxesSubplot at 0x7f7882fc6518>"
      ]
     },
     "execution_count": 146,
     "metadata": {},
     "output_type": "execute_result"
    },
    {
     "data": {
      "image/png": "[encoded data removed]",
      "text/plain": [
       "<matplotlib.figure.Figure at 0x7f78804fd3c8>"
      ]
     },
     "metadata": {},
     "output_type": "display_data"
    }
   ],
   "source": [
    "combined.plot.scatter(x='AVERAGE CLASS SIZE', y='sat_score')"
   ]
  },
  {
   "cell_type": "markdown",
   "metadata": {},
   "source": [
    "## Observations\n",
    "\n",
    "* There is a very surprising positive correlation between class size and sat scores.\n",
    "* The fact that this is surprising is because if the class size is bigger this means that there's less attention to each individual student, therfore, you would expect for a class size with a smaller amount of students and more personalized attention to score higher is sat scores."
   ]
  },
  {
   "cell_type": "code",
   "execution_count": 147,
   "metadata": {
    "collapsed": false
   },
   "outputs": [
    {
     "name": "stdout",
     "output_type": "stream",
     "text": [
      "DBN\n",
      "\n",
      "SCHOOL NAME\n",
      "\n",
      "Num of SAT Test Takers\n",
      "\n",
      "SAT Critical Reading Avg. Score\n",
      "\n",
      "SAT Math Avg. Score\n",
      "\n",
      "SAT Writing Avg. Score\n",
      "\n",
      "sat_score\n",
      "\n",
      "SchoolName\n",
      "\n",
      "AP Test Takers \n",
      "\n",
      "Total Exams Taken\n",
      "\n",
      "Number of Exams with scores 3 4 or 5\n",
      "\n",
      "Demographic\n",
      "\n",
      "School Name\n",
      "\n",
      "Cohort\n",
      "\n",
      "Total Cohort\n",
      "\n",
      "Total Grads - n\n",
      "\n",
      "Total Grads - % of cohort\n",
      "\n",
      "Total Regents - n\n",
      "\n",
      "Total Regents - % of cohort\n",
      "\n",
      "Total Regents - % of grads\n",
      "\n",
      "Advanced Regents - n\n",
      "\n",
      "Advanced Regents - % of cohort\n",
      "\n",
      "Advanced Regents - % of grads\n",
      "\n",
      "Regents w/o Advanced - n\n",
      "\n",
      "Regents w/o Advanced - % of cohort\n",
      "\n",
      "Regents w/o Advanced - % of grads\n",
      "\n",
      "Local - n\n",
      "\n",
      "Local - % of cohort\n",
      "\n",
      "Local - % of grads\n",
      "\n",
      "Still Enrolled - n\n",
      "\n",
      "Still Enrolled - % of cohort\n",
      "\n",
      "Dropped Out - n\n",
      "\n",
      "Dropped Out - % of cohort\n",
      "\n",
      "CSD\n",
      "\n",
      "NUMBER OF STUDENTS / SEATS FILLED\n",
      "\n",
      "NUMBER OF SECTIONS\n",
      "\n",
      "AVERAGE CLASS SIZE\n",
      "\n",
      "SIZE OF SMALLEST CLASS\n",
      "\n",
      "SIZE OF LARGEST CLASS\n",
      "\n",
      "SCHOOLWIDE PUPIL-TEACHER RATIO\n",
      "\n",
      "Name\n",
      "\n",
      "schoolyear\n",
      "\n",
      "fl_percent\n",
      "\n",
      "frl_percent\n",
      "\n",
      "total_enrollment\n",
      "\n",
      "prek\n",
      "\n",
      "k\n",
      "\n",
      "grade1\n",
      "\n",
      "grade2\n",
      "\n",
      "grade3\n",
      "\n",
      "grade4\n",
      "\n",
      "grade5\n",
      "\n",
      "grade6\n",
      "\n",
      "grade7\n",
      "\n",
      "grade8\n",
      "\n",
      "grade9\n",
      "\n",
      "grade10\n",
      "\n",
      "grade11\n",
      "\n",
      "grade12\n",
      "\n",
      "ell_num\n",
      "\n",
      "ell_percent\n",
      "\n",
      "sped_num\n",
      "\n",
      "sped_percent\n",
      "\n",
      "ctt_num\n",
      "\n",
      "selfcontained_num\n",
      "\n",
      "asian_num\n",
      "\n",
      "asian_per\n",
      "\n",
      "black_num\n",
      "\n",
      "black_per\n",
      "\n",
      "hispanic_num\n",
      "\n",
      "hispanic_per\n",
      "\n",
      "white_num\n",
      "\n",
      "white_per\n",
      "\n",
      "male_num\n",
      "\n",
      "male_per\n",
      "\n",
      "female_num\n",
      "\n",
      "female_per\n",
      "\n",
      "rr_s\n",
      "\n",
      "rr_t\n",
      "\n",
      "rr_p\n",
      "\n",
      "N_s\n",
      "\n",
      "N_t\n",
      "\n",
      "N_p\n",
      "\n",
      "saf_p_11\n",
      "\n",
      "com_p_11\n",
      "\n",
      "eng_p_11\n",
      "\n",
      "aca_p_11\n",
      "\n",
      "saf_t_11\n",
      "\n",
      "com_t_11\n",
      "\n",
      "eng_t_11\n",
      "\n",
      "aca_t_11\n",
      "\n",
      "saf_s_11\n",
      "\n",
      "com_s_11\n",
      "\n",
      "eng_s_11\n",
      "\n",
      "aca_s_11\n",
      "\n",
      "saf_tot_11\n",
      "\n",
      "com_tot_11\n",
      "\n",
      "eng_tot_11\n",
      "\n",
      "aca_tot_11\n",
      "\n",
      "dbn\n",
      "\n",
      "school_name\n",
      "\n",
      "boro\n",
      "\n",
      "building_code\n",
      "\n",
      "phone_number\n",
      "\n",
      "fax_number\n",
      "\n",
      "grade_span_min\n",
      "\n",
      "grade_span_max\n",
      "\n",
      "expgrade_span_min\n",
      "\n",
      "expgrade_span_max\n",
      "\n",
      "bus\n",
      "\n",
      "subway\n",
      "\n",
      "primary_address_line_1\n",
      "\n",
      "city\n",
      "\n",
      "state_code\n",
      "\n",
      "zip\n",
      "\n",
      "website\n",
      "\n",
      "total_students\n",
      "\n",
      "campus_name\n",
      "\n",
      "school_type\n",
      "\n",
      "overview_paragraph\n",
      "\n",
      "program_highlights\n",
      "\n",
      "language_classes\n",
      "\n",
      "advancedplacement_courses\n",
      "\n",
      "online_ap_courses\n",
      "\n",
      "online_language_courses\n",
      "\n",
      "extracurricular_activities\n",
      "\n",
      "psal_sports_boys\n",
      "\n",
      "psal_sports_girls\n",
      "\n",
      "psal_sports_coed\n",
      "\n",
      "school_sports\n",
      "\n",
      "partner_cbo\n",
      "\n",
      "partner_hospital\n",
      "\n",
      "partner_highered\n",
      "\n",
      "partner_cultural\n",
      "\n",
      "partner_nonprofit\n",
      "\n",
      "partner_corporate\n",
      "\n",
      "partner_financial\n",
      "\n",
      "partner_other\n",
      "\n",
      "addtl_info1\n",
      "\n",
      "addtl_info2\n",
      "\n",
      "start_time\n",
      "\n",
      "end_time\n",
      "\n",
      "se_services\n",
      "\n",
      "ell_programs\n",
      "\n",
      "school_accessibility_description\n",
      "\n",
      "number_programs\n",
      "\n",
      "priority01\n",
      "\n",
      "priority02\n",
      "\n",
      "priority03\n",
      "\n",
      "priority04\n",
      "\n",
      "priority05\n",
      "\n",
      "priority06\n",
      "\n",
      "priority07\n",
      "\n",
      "priority08\n",
      "\n",
      "priority09\n",
      "\n",
      "priority10\n",
      "\n",
      "Location 1\n",
      "\n",
      "lat\n",
      "\n",
      "lon\n",
      "\n",
      "school_dist\n",
      "\n",
      "ap_per\n",
      "\n"
     ]
    }
   ],
   "source": [
    "for col in combined.columns:\n",
    "    print(col+'\\n')"
   ]
  },
  {
   "cell_type": "markdown",
   "metadata": {},
   "source": [
    "## Correlation between Survey Scores and SAT Scores"
   ]
  },
  {
   "cell_type": "code",
   "execution_count": 148,
   "metadata": {
    "collapsed": false
   },
   "outputs": [
    {
     "data": {
      "image/png": "[encoded data removed]",
      "text/plain": [
       "<matplotlib.figure.Figure at 0x7f7881f35828>"
      ]
     },
     "metadata": {},
     "output_type": "display_data"
    }
   ],
   "source": [
    "parent_fields = ['saf_p_11', 'com_p_11', 'eng_p_11', 'aca_p_11']\n",
    "student_fields = ['saf_s_11', 'com_s_11', 'eng_s_11', 'aca_s_11']\n",
    "teacher_fields = ['saf_t_11', 'com_t_11', 'eng_t_11', 'aca_t_11']\n",
    "fields = [parent_fields, student_fields, teacher_fields]\n",
    "titles = ['Parent Survey Scores vs Sat Scores Corr', 'Student Survey Scores vs Sat Scores Corr','Teacher Survey Scores vs Sat Scores Corr']\n",
    "tick_titles = ['safety','communication','engagement', 'academic']\n",
    "\n",
    "fig = plt.figure(figsize=(15,5))\n",
    "bar_pos = numpy.arange(4) + 0.75\n",
    "tick_pos = range(1,5)\n",
    "for pos in range(0,3):\n",
    "    ax = fig.add_subplot(1,3,pos+1)\n",
    "    ax.bar(bar_pos, correlations.loc[fields[pos]], 0.5, color='steelblue')\n",
    "    for key, spine in ax.spines.items():\n",
    "        spine.set_visible(False)\n",
    "    ax.tick_params(bottom=\"off\", top=\"off\", left=\"off\", right=\"off\")\n",
    "    ax.set_xticks(tick_pos)\n",
    "    ax.set_title(titles[pos])\n",
    "    ax.set_xticklabels(tick_titles, rotation=45)\n",
    "    if pos == 0:\n",
    "        ax.axhline(0, c=(171/255,171/255,171/255), alpha=0.3, linewidth=4)"
   ]
  },
  {
   "cell_type": "markdown",
   "metadata": {},
   "source": [
    "## Observations\n",
    "\n",
    "* There's a clear evidence that the survey results from the students correlates significantly more with the sat scores positively.\n",
    "* It's notable that the safety survey results correlates so much with sat scores, this is probably an important factor for academic success. \n",
    "* We can also notice that the higher the communication is scored on the parent survey the less students score on the sat, which means that there's a negative correlation that's worth mentioning."
   ]
  },
  {
   "cell_type": "code",
   "execution_count": 149,
   "metadata": {
    "collapsed": false
   },
   "outputs": [
    {
     "data": {
      "text/plain": [
       "sat_score                               1.000000\n",
       "SAT Writing Avg. Score                  0.987771\n",
       "SAT Critical Reading Avg. Score         0.986820\n",
       "SAT Math Avg. Score                     0.972643\n",
       "white_per                               0.620718\n",
       "asian_per                               0.570730\n",
       "AP Test Takers                          0.523140\n",
       "Total Exams Taken                       0.514333\n",
       "asian_num                               0.475445\n",
       "Number of Exams with scores 3 4 or 5    0.463245\n",
       "white_num                               0.449559\n",
       "N_s                                     0.423463\n",
       "N_p                                     0.421530\n",
       "total_students                          0.407827\n",
       "NUMBER OF STUDENTS / SEATS FILLED       0.394626\n",
       "female_num                              0.388631\n",
       "AVERAGE CLASS SIZE                      0.381014\n",
       "total_enrollment                        0.367857\n",
       "NUMBER OF SECTIONS                      0.362673\n",
       "aca_s_11                                0.339435\n",
       "saf_s_11                                0.337639\n",
       "male_num                                0.325520\n",
       "Total Cohort                            0.325144\n",
       "saf_tot_11                              0.318753\n",
       "SIZE OF LARGEST CLASS                   0.314434\n",
       "saf_t_11                                0.313810\n",
       "N_t                                     0.291463\n",
       "SIZE OF SMALLEST CLASS                  0.249949\n",
       "rr_s                                    0.232199\n",
       "eng_s_11                                0.213822\n",
       "                                          ...   \n",
       "com_t_11                                0.082419\n",
       "com_tot_11                              0.077310\n",
       "rr_p                                    0.047925\n",
       "CSD                                     0.042948\n",
       "eng_t_11                                0.036906\n",
       "aca_p_11                                0.035155\n",
       "sped_num                                0.034933\n",
       "black_num                               0.027979\n",
       "hispanic_num                            0.025744\n",
       "eng_p_11                                0.020254\n",
       "rr_t                                   -0.023386\n",
       "zip                                    -0.063977\n",
       "male_per                               -0.112062\n",
       "com_p_11                               -0.115073\n",
       "lat                                    -0.121029\n",
       "lon                                    -0.132222\n",
       "ell_num                                -0.153778\n",
       "black_per                              -0.284139\n",
       "hispanic_per                           -0.396985\n",
       "ell_percent                            -0.398750\n",
       "sped_percent                           -0.448170\n",
       "frl_percent                            -0.722225\n",
       "SCHOOLWIDE PUPIL-TEACHER RATIO               NaN\n",
       "schoolyear                                   NaN\n",
       "fl_percent                                   NaN\n",
       "grade_span_max                               NaN\n",
       "expgrade_span_max                            NaN\n",
       "priority08                                   NaN\n",
       "priority09                                   NaN\n",
       "priority10                                   NaN\n",
       "Name: sat_score, Length: 67, dtype: float64"
      ]
     },
     "execution_count": 149,
     "metadata": {},
     "output_type": "execute_result"
    }
   ],
   "source": [
    "correlations.sort_values(ascending=False)"
   ]
  },
  {
   "cell_type": "code",
   "execution_count": 150,
   "metadata": {
    "collapsed": true
   },
   "outputs": [],
   "source": [
    "positive_fields = ['white_per','asian_per','AP Test Takers ','Total Exams Taken','Number of Exams with scores 3 4 or 5','N_s','N_p']\n",
    "negative_fields = ['black_per','hispanic_per','ell_percent','sped_percent','frl_percent']"
   ]
  },
  {
   "cell_type": "code",
   "execution_count": 151,
   "metadata": {
    "collapsed": false
   },
   "outputs": [
    {
     "data": {
      "text/plain": [
       "white_per                               0.175485\n",
       "asian_per                               0.161353\n",
       "AP Test Takers                          0.147898\n",
       "Total Exams Taken                       0.145409\n",
       "Number of Exams with scores 3 4 or 5    0.130965\n",
       "N_s                                     0.119718\n",
       "N_p                                     0.119172\n",
       "Name: sat_score, dtype: float64"
      ]
     },
     "execution_count": 151,
     "metadata": {},
     "output_type": "execute_result"
    }
   ],
   "source": [
    "suma = correlations[positive_fields].sum() \n",
    "positive_w = correlations[positive_fields] / suma\n",
    "positive_w"
   ]
  },
  {
   "cell_type": "code",
   "execution_count": 152,
   "metadata": {
    "collapsed": false
   },
   "outputs": [],
   "source": [
    "def school_score(val, col):\n",
    "    return val * positive_w[col]"
   ]
  },
  {
   "cell_type": "code",
   "execution_count": 153,
   "metadata": {
    "collapsed": true
   },
   "outputs": [],
   "source": [
    "test = combined[positive_fields].copy()"
   ]
  },
  {
   "cell_type": "code",
   "execution_count": 154,
   "metadata": {
    "collapsed": false
   },
   "outputs": [],
   "source": [
    "for col in positive_w.index:\n",
    "    test[col + '_sscore'] = test[col].apply(school_score, args=(col,))"
   ]
  },
  {
   "cell_type": "code",
   "execution_count": 155,
   "metadata": {
    "collapsed": false
   },
   "outputs": [
    {
     "data": {
      "text/html": [
       "<div>\n",
       "<style scoped>\n",
       "    .dataframe tbody tr th:only-of-type {\n",
       "        vertical-align: middle;\n",
       "    }\n",
       "\n",
       "    .dataframe tbody tr th {\n",
       "        vertical-align: top;\n",
       "    }\n",
       "\n",
       "    .dataframe thead th {\n",
       "        text-align: right;\n",
       "    }\n",
       "</style>\n",
       "<table border=\"1\" class=\"dataframe\">\n",
       "  <thead>\n",
       "    <tr style=\"text-align: right;\">\n",
       "      <th></th>\n",
       "      <th>white_per</th>\n",
       "      <th>asian_per</th>\n",
       "      <th>AP Test Takers</th>\n",
       "      <th>Total Exams Taken</th>\n",
       "      <th>Number of Exams with scores 3 4 or 5</th>\n",
       "      <th>N_s</th>\n",
       "      <th>N_p</th>\n",
       "      <th>white_per_sscore</th>\n",
       "      <th>asian_per_sscore</th>\n",
       "      <th>AP Test Takers _sscore</th>\n",
       "      <th>Total Exams Taken_sscore</th>\n",
       "      <th>Number of Exams with scores 3 4 or 5_sscore</th>\n",
       "      <th>N_s_sscore</th>\n",
       "      <th>N_p_sscore</th>\n",
       "      <th>school_name</th>\n",
       "    </tr>\n",
       "  </thead>\n",
       "  <tbody>\n",
       "    <tr>\n",
       "      <th>0</th>\n",
       "      <td>1.7</td>\n",
       "      <td>14.0</td>\n",
       "      <td>129.028846</td>\n",
       "      <td>197.038462</td>\n",
       "      <td>153.45</td>\n",
       "      <td>379.000000</td>\n",
       "      <td>151.0</td>\n",
       "      <td>0.298324</td>\n",
       "      <td>2.258938</td>\n",
       "      <td>19.083163</td>\n",
       "      <td>28.651085</td>\n",
       "      <td>20.096619</td>\n",
       "      <td>45.373256</td>\n",
       "      <td>17.994956</td>\n",
       "      <td>HENRY STREET SCHOOL FOR INTERNATIONAL STUDIES</td>\n",
       "    </tr>\n",
       "    <tr>\n",
       "      <th>1</th>\n",
       "      <td>2.3</td>\n",
       "      <td>29.2</td>\n",
       "      <td>39.000000</td>\n",
       "      <td>49.000000</td>\n",
       "      <td>10.00</td>\n",
       "      <td>385.000000</td>\n",
       "      <td>46.0</td>\n",
       "      <td>0.403615</td>\n",
       "      <td>4.711498</td>\n",
       "      <td>5.768039</td>\n",
       "      <td>7.125021</td>\n",
       "      <td>1.309653</td>\n",
       "      <td>46.091566</td>\n",
       "      <td>5.481907</td>\n",
       "      <td>UNIVERSITY NEIGHBORHOOD HIGH SCHOOL</td>\n",
       "    </tr>\n",
       "    <tr>\n",
       "      <th>2</th>\n",
       "      <td>10.4</td>\n",
       "      <td>9.7</td>\n",
       "      <td>19.000000</td>\n",
       "      <td>21.000000</td>\n",
       "      <td>153.45</td>\n",
       "      <td>598.208333</td>\n",
       "      <td>150.0</td>\n",
       "      <td>1.825042</td>\n",
       "      <td>1.565121</td>\n",
       "      <td>2.810070</td>\n",
       "      <td>3.053580</td>\n",
       "      <td>20.096619</td>\n",
       "      <td>71.616517</td>\n",
       "      <td>17.875784</td>\n",
       "      <td>EAST SIDE COMMUNITY SCHOOL</td>\n",
       "    </tr>\n",
       "    <tr>\n",
       "      <th>3</th>\n",
       "      <td>1.6</td>\n",
       "      <td>9.3</td>\n",
       "      <td>129.028846</td>\n",
       "      <td>197.038462</td>\n",
       "      <td>153.45</td>\n",
       "      <td>306.000000</td>\n",
       "      <td>69.0</td>\n",
       "      <td>0.280776</td>\n",
       "      <td>1.500580</td>\n",
       "      <td>19.083163</td>\n",
       "      <td>28.651085</td>\n",
       "      <td>20.096619</td>\n",
       "      <td>36.633816</td>\n",
       "      <td>8.222861</td>\n",
       "      <td>MARTA VALLE HIGH SCHOOL</td>\n",
       "    </tr>\n",
       "    <tr>\n",
       "      <th>4</th>\n",
       "      <td>44.9</td>\n",
       "      <td>27.8</td>\n",
       "      <td>255.000000</td>\n",
       "      <td>377.000000</td>\n",
       "      <td>191.00</td>\n",
       "      <td>923.000000</td>\n",
       "      <td>736.0</td>\n",
       "      <td>7.879267</td>\n",
       "      <td>4.485605</td>\n",
       "      <td>37.714099</td>\n",
       "      <td>54.819038</td>\n",
       "      <td>25.014364</td>\n",
       "      <td>110.500041</td>\n",
       "      <td>87.710513</td>\n",
       "      <td>NEW EXPLORATIONS INTO SCIENCE, TECHNOLOGY AND ...</td>\n",
       "    </tr>\n",
       "  </tbody>\n",
       "</table>\n",
       "</div>"
      ],
      "text/plain": [
       "   white_per  asian_per  AP Test Takers   Total Exams Taken  \\\n",
       "0        1.7       14.0       129.028846         197.038462   \n",
       "1        2.3       29.2        39.000000          49.000000   \n",
       "2       10.4        9.7        19.000000          21.000000   \n",
       "3        1.6        9.3       129.028846         197.038462   \n",
       "4       44.9       27.8       255.000000         377.000000   \n",
       "\n",
       "   Number of Exams with scores 3 4 or 5         N_s    N_p  white_per_sscore  \\\n",
       "0                                153.45  379.000000  151.0          0.298324   \n",
       "1                                 10.00  385.000000   46.0          0.403615   \n",
       "2                                153.45  598.208333  150.0          1.825042   \n",
       "3                                153.45  306.000000   69.0          0.280776   \n",
       "4                                191.00  923.000000  736.0          7.879267   \n",
       "\n",
       "   asian_per_sscore  AP Test Takers _sscore  Total Exams Taken_sscore  \\\n",
       "0          2.258938               19.083163                 28.651085   \n",
       "1          4.711498                5.768039                  7.125021   \n",
       "2          1.565121                2.810070                  3.053580   \n",
       "3          1.500580               19.083163                 28.651085   \n",
       "4          4.485605               37.714099                 54.819038   \n",
       "\n",
       "   Number of Exams with scores 3 4 or 5_sscore  N_s_sscore  N_p_sscore  \\\n",
       "0                                    20.096619   45.373256   17.994956   \n",
       "1                                     1.309653   46.091566    5.481907   \n",
       "2                                    20.096619   71.616517   17.875784   \n",
       "3                                    20.096619   36.633816    8.222861   \n",
       "4                                    25.014364  110.500041   87.710513   \n",
       "\n",
       "                                         school_name  \n",
       "0      HENRY STREET SCHOOL FOR INTERNATIONAL STUDIES  \n",
       "1                UNIVERSITY NEIGHBORHOOD HIGH SCHOOL  \n",
       "2                         EAST SIDE COMMUNITY SCHOOL  \n",
       "3                            MARTA VALLE HIGH SCHOOL  \n",
       "4  NEW EXPLORATIONS INTO SCIENCE, TECHNOLOGY AND ...  "
      ]
     },
     "execution_count": 155,
     "metadata": {},
     "output_type": "execute_result"
    }
   ],
   "source": [
    "test['school_name'] = combined['SCHOOL NAME']\n",
    "test.head()"
   ]
  },
  {
   "cell_type": "code",
   "execution_count": 156,
   "metadata": {
    "collapsed": false
   },
   "outputs": [],
   "source": [
    "sum_fields = ['white_per_sscore','asian_per_sscore','AP Test Takers _sscore','Total Exams Taken_sscore','Number of Exams with scores 3 4 or 5_sscore','N_s_sscore','N_p_sscore']\n",
    "test['total_sscore'] = test[sum_fields].sum(axis=1)"
   ]
  },
  {
   "cell_type": "code",
   "execution_count": 157,
   "metadata": {
    "collapsed": false
   },
   "outputs": [
    {
     "data": {
      "text/html": [
       "<div>\n",
       "<style scoped>\n",
       "    .dataframe tbody tr th:only-of-type {\n",
       "        vertical-align: middle;\n",
       "    }\n",
       "\n",
       "    .dataframe tbody tr th {\n",
       "        vertical-align: top;\n",
       "    }\n",
       "\n",
       "    .dataframe thead th {\n",
       "        text-align: right;\n",
       "    }\n",
       "</style>\n",
       "<table border=\"1\" class=\"dataframe\">\n",
       "  <thead>\n",
       "    <tr style=\"text-align: right;\">\n",
       "      <th></th>\n",
       "      <th>white_per</th>\n",
       "      <th>asian_per</th>\n",
       "      <th>AP Test Takers</th>\n",
       "      <th>Total Exams Taken</th>\n",
       "      <th>Number of Exams with scores 3 4 or 5</th>\n",
       "      <th>N_s</th>\n",
       "      <th>N_p</th>\n",
       "      <th>white_per_sscore</th>\n",
       "      <th>asian_per_sscore</th>\n",
       "      <th>AP Test Takers _sscore</th>\n",
       "      <th>Total Exams Taken_sscore</th>\n",
       "      <th>Number of Exams with scores 3 4 or 5_sscore</th>\n",
       "      <th>N_s_sscore</th>\n",
       "      <th>N_p_sscore</th>\n",
       "      <th>school_name</th>\n",
       "      <th>total_sscore</th>\n",
       "    </tr>\n",
       "  </thead>\n",
       "  <tbody>\n",
       "    <tr>\n",
       "      <th>0</th>\n",
       "      <td>1.7</td>\n",
       "      <td>14.0</td>\n",
       "      <td>129.028846</td>\n",
       "      <td>197.038462</td>\n",
       "      <td>153.45</td>\n",
       "      <td>379.000000</td>\n",
       "      <td>151.0</td>\n",
       "      <td>0.298324</td>\n",
       "      <td>2.258938</td>\n",
       "      <td>19.083163</td>\n",
       "      <td>28.651085</td>\n",
       "      <td>20.096619</td>\n",
       "      <td>45.373256</td>\n",
       "      <td>17.994956</td>\n",
       "      <td>HENRY STREET SCHOOL FOR INTERNATIONAL STUDIES</td>\n",
       "      <td>133.756341</td>\n",
       "    </tr>\n",
       "    <tr>\n",
       "      <th>1</th>\n",
       "      <td>2.3</td>\n",
       "      <td>29.2</td>\n",
       "      <td>39.000000</td>\n",
       "      <td>49.000000</td>\n",
       "      <td>10.00</td>\n",
       "      <td>385.000000</td>\n",
       "      <td>46.0</td>\n",
       "      <td>0.403615</td>\n",
       "      <td>4.711498</td>\n",
       "      <td>5.768039</td>\n",
       "      <td>7.125021</td>\n",
       "      <td>1.309653</td>\n",
       "      <td>46.091566</td>\n",
       "      <td>5.481907</td>\n",
       "      <td>UNIVERSITY NEIGHBORHOOD HIGH SCHOOL</td>\n",
       "      <td>70.891299</td>\n",
       "    </tr>\n",
       "    <tr>\n",
       "      <th>2</th>\n",
       "      <td>10.4</td>\n",
       "      <td>9.7</td>\n",
       "      <td>19.000000</td>\n",
       "      <td>21.000000</td>\n",
       "      <td>153.45</td>\n",
       "      <td>598.208333</td>\n",
       "      <td>150.0</td>\n",
       "      <td>1.825042</td>\n",
       "      <td>1.565121</td>\n",
       "      <td>2.810070</td>\n",
       "      <td>3.053580</td>\n",
       "      <td>20.096619</td>\n",
       "      <td>71.616517</td>\n",
       "      <td>17.875784</td>\n",
       "      <td>EAST SIDE COMMUNITY SCHOOL</td>\n",
       "      <td>118.842733</td>\n",
       "    </tr>\n",
       "    <tr>\n",
       "      <th>3</th>\n",
       "      <td>1.6</td>\n",
       "      <td>9.3</td>\n",
       "      <td>129.028846</td>\n",
       "      <td>197.038462</td>\n",
       "      <td>153.45</td>\n",
       "      <td>306.000000</td>\n",
       "      <td>69.0</td>\n",
       "      <td>0.280776</td>\n",
       "      <td>1.500580</td>\n",
       "      <td>19.083163</td>\n",
       "      <td>28.651085</td>\n",
       "      <td>20.096619</td>\n",
       "      <td>36.633816</td>\n",
       "      <td>8.222861</td>\n",
       "      <td>MARTA VALLE HIGH SCHOOL</td>\n",
       "      <td>114.468899</td>\n",
       "    </tr>\n",
       "    <tr>\n",
       "      <th>4</th>\n",
       "      <td>44.9</td>\n",
       "      <td>27.8</td>\n",
       "      <td>255.000000</td>\n",
       "      <td>377.000000</td>\n",
       "      <td>191.00</td>\n",
       "      <td>923.000000</td>\n",
       "      <td>736.0</td>\n",
       "      <td>7.879267</td>\n",
       "      <td>4.485605</td>\n",
       "      <td>37.714099</td>\n",
       "      <td>54.819038</td>\n",
       "      <td>25.014364</td>\n",
       "      <td>110.500041</td>\n",
       "      <td>87.710513</td>\n",
       "      <td>NEW EXPLORATIONS INTO SCIENCE, TECHNOLOGY AND ...</td>\n",
       "      <td>328.122927</td>\n",
       "    </tr>\n",
       "  </tbody>\n",
       "</table>\n",
       "</div>"
      ],
      "text/plain": [
       "   white_per  asian_per  AP Test Takers   Total Exams Taken  \\\n",
       "0        1.7       14.0       129.028846         197.038462   \n",
       "1        2.3       29.2        39.000000          49.000000   \n",
       "2       10.4        9.7        19.000000          21.000000   \n",
       "3        1.6        9.3       129.028846         197.038462   \n",
       "4       44.9       27.8       255.000000         377.000000   \n",
       "\n",
       "   Number of Exams with scores 3 4 or 5         N_s    N_p  white_per_sscore  \\\n",
       "0                                153.45  379.000000  151.0          0.298324   \n",
       "1                                 10.00  385.000000   46.0          0.403615   \n",
       "2                                153.45  598.208333  150.0          1.825042   \n",
       "3                                153.45  306.000000   69.0          0.280776   \n",
       "4                                191.00  923.000000  736.0          7.879267   \n",
       "\n",
       "   asian_per_sscore  AP Test Takers _sscore  Total Exams Taken_sscore  \\\n",
       "0          2.258938               19.083163                 28.651085   \n",
       "1          4.711498                5.768039                  7.125021   \n",
       "2          1.565121                2.810070                  3.053580   \n",
       "3          1.500580               19.083163                 28.651085   \n",
       "4          4.485605               37.714099                 54.819038   \n",
       "\n",
       "   Number of Exams with scores 3 4 or 5_sscore  N_s_sscore  N_p_sscore  \\\n",
       "0                                    20.096619   45.373256   17.994956   \n",
       "1                                     1.309653   46.091566    5.481907   \n",
       "2                                    20.096619   71.616517   17.875784   \n",
       "3                                    20.096619   36.633816    8.222861   \n",
       "4                                    25.014364  110.500041   87.710513   \n",
       "\n",
       "                                         school_name  total_sscore  \n",
       "0      HENRY STREET SCHOOL FOR INTERNATIONAL STUDIES    133.756341  \n",
       "1                UNIVERSITY NEIGHBORHOOD HIGH SCHOOL     70.891299  \n",
       "2                         EAST SIDE COMMUNITY SCHOOL    118.842733  \n",
       "3                            MARTA VALLE HIGH SCHOOL    114.468899  \n",
       "4  NEW EXPLORATIONS INTO SCIENCE, TECHNOLOGY AND ...    328.122927  "
      ]
     },
     "execution_count": 157,
     "metadata": {},
     "output_type": "execute_result"
    }
   ],
   "source": [
    "test.head()"
   ]
  },
  {
   "cell_type": "code",
   "execution_count": 158,
   "metadata": {
    "collapsed": false
   },
   "outputs": [
    {
     "data": {
      "text/html": [
       "<div>\n",
       "<style scoped>\n",
       "    .dataframe tbody tr th:only-of-type {\n",
       "        vertical-align: middle;\n",
       "    }\n",
       "\n",
       "    .dataframe tbody tr th {\n",
       "        vertical-align: top;\n",
       "    }\n",
       "\n",
       "    .dataframe thead th {\n",
       "        text-align: right;\n",
       "    }\n",
       "</style>\n",
       "<table border=\"1\" class=\"dataframe\">\n",
       "  <thead>\n",
       "    <tr style=\"text-align: right;\">\n",
       "      <th></th>\n",
       "      <th>white_per</th>\n",
       "      <th>asian_per</th>\n",
       "      <th>AP Test Takers</th>\n",
       "      <th>Total Exams Taken</th>\n",
       "      <th>Number of Exams with scores 3 4 or 5</th>\n",
       "      <th>N_s</th>\n",
       "      <th>N_p</th>\n",
       "      <th>white_per_sscore</th>\n",
       "      <th>asian_per_sscore</th>\n",
       "      <th>AP Test Takers _sscore</th>\n",
       "      <th>Total Exams Taken_sscore</th>\n",
       "      <th>Number of Exams with scores 3 4 or 5_sscore</th>\n",
       "      <th>N_s_sscore</th>\n",
       "      <th>N_p_sscore</th>\n",
       "      <th>school_name</th>\n",
       "      <th>total_sscore</th>\n",
       "    </tr>\n",
       "  </thead>\n",
       "  <tbody>\n",
       "    <tr>\n",
       "      <th>187</th>\n",
       "      <td>21.3</td>\n",
       "      <td>60.3</td>\n",
       "      <td>2117.0</td>\n",
       "      <td>3692.0</td>\n",
       "      <td>2687.0</td>\n",
       "      <td>4768.0</td>\n",
       "      <td>2192.0</td>\n",
       "      <td>3.737826</td>\n",
       "      <td>9.729567</td>\n",
       "      <td>313.100971</td>\n",
       "      <td>536.848509</td>\n",
       "      <td>351.903649</td>\n",
       "      <td>570.817113</td>\n",
       "      <td>261.224788</td>\n",
       "      <td>BROOKLYN TECHNICAL HIGH SCHOOL</td>\n",
       "      <td>2047.362423</td>\n",
       "    </tr>\n",
       "    <tr>\n",
       "      <th>37</th>\n",
       "      <td>23.7</td>\n",
       "      <td>72.1</td>\n",
       "      <td>1510.0</td>\n",
       "      <td>2819.0</td>\n",
       "      <td>2648.0</td>\n",
       "      <td>3039.0</td>\n",
       "      <td>1062.0</td>\n",
       "      <td>4.158990</td>\n",
       "      <td>11.633528</td>\n",
       "      <td>223.326626</td>\n",
       "      <td>409.906811</td>\n",
       "      <td>346.796004</td>\n",
       "      <td>363.824078</td>\n",
       "      <td>126.560550</td>\n",
       "      <td>STUYVESANT HIGH SCHOOL</td>\n",
       "      <td>1486.206587</td>\n",
       "    </tr>\n",
       "    <tr>\n",
       "      <th>151</th>\n",
       "      <td>25.4</td>\n",
       "      <td>63.5</td>\n",
       "      <td>1190.0</td>\n",
       "      <td>2435.0</td>\n",
       "      <td>2189.0</td>\n",
       "      <td>2956.0</td>\n",
       "      <td>1314.0</td>\n",
       "      <td>4.457314</td>\n",
       "      <td>10.245895</td>\n",
       "      <td>175.999129</td>\n",
       "      <td>354.069913</td>\n",
       "      <td>286.682950</td>\n",
       "      <td>353.887455</td>\n",
       "      <td>156.591867</td>\n",
       "      <td>BRONX HIGH SCHOOL OF SCIENCE</td>\n",
       "      <td>1341.934523</td>\n",
       "    </tr>\n",
       "    <tr>\n",
       "      <th>276</th>\n",
       "      <td>21.2</td>\n",
       "      <td>31.7</td>\n",
       "      <td>745.0</td>\n",
       "      <td>1223.0</td>\n",
       "      <td>758.0</td>\n",
       "      <td>3330.0</td>\n",
       "      <td>2804.0</td>\n",
       "      <td>3.720278</td>\n",
       "      <td>5.114880</td>\n",
       "      <td>110.184329</td>\n",
       "      <td>177.834704</td>\n",
       "      <td>99.271666</td>\n",
       "      <td>398.662119</td>\n",
       "      <td>334.157987</td>\n",
       "      <td>MIDWOOD HIGH SCHOOL</td>\n",
       "      <td>1128.945962</td>\n",
       "    </tr>\n",
       "    <tr>\n",
       "      <th>304</th>\n",
       "      <td>16.8</td>\n",
       "      <td>45.7</td>\n",
       "      <td>676.0</td>\n",
       "      <td>1145.0</td>\n",
       "      <td>796.0</td>\n",
       "      <td>3393.0</td>\n",
       "      <td>1212.0</td>\n",
       "      <td>2.948145</td>\n",
       "      <td>7.373818</td>\n",
       "      <td>99.979337</td>\n",
       "      <td>166.492834</td>\n",
       "      <td>104.248346</td>\n",
       "      <td>406.204376</td>\n",
       "      <td>144.436334</td>\n",
       "      <td>BENJAMIN N. CARDOZO HIGH SCHOOL</td>\n",
       "      <td>931.683188</td>\n",
       "    </tr>\n",
       "  </tbody>\n",
       "</table>\n",
       "</div>"
      ],
      "text/plain": [
       "     white_per  asian_per  AP Test Takers   Total Exams Taken  \\\n",
       "187       21.3       60.3           2117.0             3692.0   \n",
       "37        23.7       72.1           1510.0             2819.0   \n",
       "151       25.4       63.5           1190.0             2435.0   \n",
       "276       21.2       31.7            745.0             1223.0   \n",
       "304       16.8       45.7            676.0             1145.0   \n",
       "\n",
       "     Number of Exams with scores 3 4 or 5     N_s     N_p  white_per_sscore  \\\n",
       "187                                2687.0  4768.0  2192.0          3.737826   \n",
       "37                                 2648.0  3039.0  1062.0          4.158990   \n",
       "151                                2189.0  2956.0  1314.0          4.457314   \n",
       "276                                 758.0  3330.0  2804.0          3.720278   \n",
       "304                                 796.0  3393.0  1212.0          2.948145   \n",
       "\n",
       "     asian_per_sscore  AP Test Takers _sscore  Total Exams Taken_sscore  \\\n",
       "187          9.729567              313.100971                536.848509   \n",
       "37          11.633528              223.326626                409.906811   \n",
       "151         10.245895              175.999129                354.069913   \n",
       "276          5.114880              110.184329                177.834704   \n",
       "304          7.373818               99.979337                166.492834   \n",
       "\n",
       "     Number of Exams with scores 3 4 or 5_sscore  N_s_sscore  N_p_sscore  \\\n",
       "187                                   351.903649  570.817113  261.224788   \n",
       "37                                    346.796004  363.824078  126.560550   \n",
       "151                                   286.682950  353.887455  156.591867   \n",
       "276                                    99.271666  398.662119  334.157987   \n",
       "304                                   104.248346  406.204376  144.436334   \n",
       "\n",
       "                         school_name  total_sscore  \n",
       "187   BROOKLYN TECHNICAL HIGH SCHOOL   2047.362423  \n",
       "37            STUYVESANT HIGH SCHOOL   1486.206587  \n",
       "151     BRONX HIGH SCHOOL OF SCIENCE   1341.934523  \n",
       "276              MIDWOOD HIGH SCHOOL   1128.945962  \n",
       "304  BENJAMIN N. CARDOZO HIGH SCHOOL    931.683188  "
      ]
     },
     "execution_count": 158,
     "metadata": {},
     "output_type": "execute_result"
    }
   ],
   "source": [
    "test.loc[test['total_sscore'].sort_values(ascending=False).head().index]"
   ]
  },
  {
   "cell_type": "code",
   "execution_count": 159,
   "metadata": {
    "collapsed": false
   },
   "outputs": [
    {
     "data": {
      "text/plain": [
       "black_per       0.126269\n",
       "hispanic_per    0.176417\n",
       "ell_percent     0.177201\n",
       "sped_percent    0.199163\n",
       "frl_percent     0.320950\n",
       "Name: sat_score, dtype: float64"
      ]
     },
     "execution_count": 159,
     "metadata": {},
     "output_type": "execute_result"
    }
   ],
   "source": [
    "suma = correlations[negative_fields].sum() \n",
    "negative_w = correlations[negative_fields] / suma\n",
    "negative_w"
   ]
  },
  {
   "cell_type": "code",
   "execution_count": 160,
   "metadata": {
    "collapsed": true
   },
   "outputs": [],
   "source": [
    "def school_score(val, col):\n",
    "    return val * negative_w[col]"
   ]
  },
  {
   "cell_type": "code",
   "execution_count": 161,
   "metadata": {
    "collapsed": true
   },
   "outputs": [],
   "source": [
    "test2 = combined[negative_fields].copy()"
   ]
  },
  {
   "cell_type": "code",
   "execution_count": 162,
   "metadata": {
    "collapsed": true
   },
   "outputs": [],
   "source": [
    "for col in negative_w.index:\n",
    "    test2[col + '_sscore'] = test2[col].apply(school_score, args=(col,))"
   ]
  },
  {
   "cell_type": "code",
   "execution_count": 163,
   "metadata": {
    "collapsed": true
   },
   "outputs": [],
   "source": [
    "test2['school_name'] = combined['SCHOOL NAME']"
   ]
  },
  {
   "cell_type": "code",
   "execution_count": 164,
   "metadata": {
    "collapsed": true
   },
   "outputs": [],
   "source": [
    "sum_fields = ['black_per_sscore','hispanic_per_sscore','ell_percent_sscore','sped_percent_sscore','frl_percent_sscore']\n",
    "test2['total_negative_sscore'] = test2[sum_fields].sum(axis=1)"
   ]
  },
  {
   "cell_type": "code",
   "execution_count": 165,
   "metadata": {
    "collapsed": false
   },
   "outputs": [
    {
     "data": {
      "text/html": [
       "<div>\n",
       "<style scoped>\n",
       "    .dataframe tbody tr th:only-of-type {\n",
       "        vertical-align: middle;\n",
       "    }\n",
       "\n",
       "    .dataframe tbody tr th {\n",
       "        vertical-align: top;\n",
       "    }\n",
       "\n",
       "    .dataframe thead th {\n",
       "        text-align: right;\n",
       "    }\n",
       "</style>\n",
       "<table border=\"1\" class=\"dataframe\">\n",
       "  <thead>\n",
       "    <tr style=\"text-align: right;\">\n",
       "      <th></th>\n",
       "      <th>black_per</th>\n",
       "      <th>hispanic_per</th>\n",
       "      <th>ell_percent</th>\n",
       "      <th>sped_percent</th>\n",
       "      <th>frl_percent</th>\n",
       "      <th>black_per_sscore</th>\n",
       "      <th>hispanic_per_sscore</th>\n",
       "      <th>ell_percent_sscore</th>\n",
       "      <th>sped_percent_sscore</th>\n",
       "      <th>frl_percent_sscore</th>\n",
       "      <th>school_name</th>\n",
       "      <th>total_negative_sscore</th>\n",
       "    </tr>\n",
       "  </thead>\n",
       "  <tbody>\n",
       "    <tr>\n",
       "      <th>176</th>\n",
       "      <td>0.0</td>\n",
       "      <td>99.8</td>\n",
       "      <td>92.9</td>\n",
       "      <td>0.2</td>\n",
       "      <td>100.0</td>\n",
       "      <td>0.000000</td>\n",
       "      <td>17.606381</td>\n",
       "      <td>16.461965</td>\n",
       "      <td>0.039833</td>\n",
       "      <td>32.095034</td>\n",
       "      <td>PAN AMERICAN INTERNATIONAL HIGH SCHOOL AT MONROE</td>\n",
       "      <td>66.203213</td>\n",
       "    </tr>\n",
       "    <tr>\n",
       "      <th>31</th>\n",
       "      <td>8.0</td>\n",
       "      <td>84.6</td>\n",
       "      <td>86.9</td>\n",
       "      <td>6.9</td>\n",
       "      <td>97.5</td>\n",
       "      <td>1.010153</td>\n",
       "      <td>14.924848</td>\n",
       "      <td>15.398759</td>\n",
       "      <td>1.374225</td>\n",
       "      <td>31.292658</td>\n",
       "      <td>MANHATTAN ACADEMY FOR ARTS &amp; LANGUAGE</td>\n",
       "      <td>64.000643</td>\n",
       "    </tr>\n",
       "    <tr>\n",
       "      <th>89</th>\n",
       "      <td>0.0</td>\n",
       "      <td>99.8</td>\n",
       "      <td>89.6</td>\n",
       "      <td>0.0</td>\n",
       "      <td>92.8</td>\n",
       "      <td>0.000000</td>\n",
       "      <td>17.606381</td>\n",
       "      <td>15.877202</td>\n",
       "      <td>0.000000</td>\n",
       "      <td>29.784192</td>\n",
       "      <td>GREGORIO LUPERON HIGH SCHOOL FOR SCIENCE AND M...</td>\n",
       "      <td>63.267775</td>\n",
       "    </tr>\n",
       "    <tr>\n",
       "      <th>139</th>\n",
       "      <td>5.4</td>\n",
       "      <td>84.7</td>\n",
       "      <td>88.7</td>\n",
       "      <td>0.4</td>\n",
       "      <td>95.1</td>\n",
       "      <td>0.681853</td>\n",
       "      <td>14.942490</td>\n",
       "      <td>15.717721</td>\n",
       "      <td>0.079665</td>\n",
       "      <td>30.522378</td>\n",
       "      <td>KINGSBRIDGE INTERNATIONAL HIGH SCHOOL</td>\n",
       "      <td>61.944107</td>\n",
       "    </tr>\n",
       "    <tr>\n",
       "      <th>179</th>\n",
       "      <td>10.8</td>\n",
       "      <td>84.6</td>\n",
       "      <td>86.4</td>\n",
       "      <td>0.5</td>\n",
       "      <td>90.6</td>\n",
       "      <td>1.363706</td>\n",
       "      <td>14.924848</td>\n",
       "      <td>15.310159</td>\n",
       "      <td>0.099581</td>\n",
       "      <td>29.078101</td>\n",
       "      <td>HIGH SCHOOL OF WORLD CULTURES</td>\n",
       "      <td>60.776396</td>\n",
       "    </tr>\n",
       "  </tbody>\n",
       "</table>\n",
       "</div>"
      ],
      "text/plain": [
       "     black_per  hispanic_per  ell_percent  sped_percent  frl_percent  \\\n",
       "176        0.0          99.8         92.9           0.2        100.0   \n",
       "31         8.0          84.6         86.9           6.9         97.5   \n",
       "89         0.0          99.8         89.6           0.0         92.8   \n",
       "139        5.4          84.7         88.7           0.4         95.1   \n",
       "179       10.8          84.6         86.4           0.5         90.6   \n",
       "\n",
       "     black_per_sscore  hispanic_per_sscore  ell_percent_sscore  \\\n",
       "176          0.000000            17.606381           16.461965   \n",
       "31           1.010153            14.924848           15.398759   \n",
       "89           0.000000            17.606381           15.877202   \n",
       "139          0.681853            14.942490           15.717721   \n",
       "179          1.363706            14.924848           15.310159   \n",
       "\n",
       "     sped_percent_sscore  frl_percent_sscore  \\\n",
       "176             0.039833           32.095034   \n",
       "31              1.374225           31.292658   \n",
       "89              0.000000           29.784192   \n",
       "139             0.079665           30.522378   \n",
       "179             0.099581           29.078101   \n",
       "\n",
       "                                           school_name  total_negative_sscore  \n",
       "176   PAN AMERICAN INTERNATIONAL HIGH SCHOOL AT MONROE              66.203213  \n",
       "31               MANHATTAN ACADEMY FOR ARTS & LANGUAGE              64.000643  \n",
       "89   GREGORIO LUPERON HIGH SCHOOL FOR SCIENCE AND M...              63.267775  \n",
       "139              KINGSBRIDGE INTERNATIONAL HIGH SCHOOL              61.944107  \n",
       "179                      HIGH SCHOOL OF WORLD CULTURES              60.776396  "
      ]
     },
     "execution_count": 165,
     "metadata": {},
     "output_type": "execute_result"
    }
   ],
   "source": [
    "test2.loc[test2['total_negative_sscore'].sort_values(ascending=False).head().index]"
   ]
  },
  {
   "cell_type": "code",
   "execution_count": 166,
   "metadata": {
    "collapsed": true
   },
   "outputs": [],
   "source": [
    "school_scores = test.merge(test2, how='inner')"
   ]
  },
  {
   "cell_type": "code",
   "execution_count": 167,
   "metadata": {
    "collapsed": false
   },
   "outputs": [],
   "source": [
    "school_scores['sscore'] = school_scores['total_sscore'] - school_scores['total_negative_sscore']"
   ]
  },
  {
   "cell_type": "code",
   "execution_count": 168,
   "metadata": {
    "collapsed": false
   },
   "outputs": [
    {
     "data": {
      "text/html": [
       "<div>\n",
       "<style scoped>\n",
       "    .dataframe tbody tr th:only-of-type {\n",
       "        vertical-align: middle;\n",
       "    }\n",
       "\n",
       "    .dataframe tbody tr th {\n",
       "        vertical-align: top;\n",
       "    }\n",
       "\n",
       "    .dataframe thead th {\n",
       "        text-align: right;\n",
       "    }\n",
       "</style>\n",
       "<table border=\"1\" class=\"dataframe\">\n",
       "  <thead>\n",
       "    <tr style=\"text-align: right;\">\n",
       "      <th></th>\n",
       "      <th>school_name</th>\n",
       "      <th>sscore</th>\n",
       "    </tr>\n",
       "  </thead>\n",
       "  <tbody>\n",
       "    <tr>\n",
       "      <th>189</th>\n",
       "      <td>BROOKLYN TECHNICAL HIGH SCHOOL</td>\n",
       "      <td>2028.291302</td>\n",
       "    </tr>\n",
       "    <tr>\n",
       "      <th>37</th>\n",
       "      <td>STUYVESANT HIGH SCHOOL</td>\n",
       "      <td>1475.827203</td>\n",
       "    </tr>\n",
       "    <tr>\n",
       "      <th>153</th>\n",
       "      <td>BRONX HIGH SCHOOL OF SCIENCE</td>\n",
       "      <td>1329.208243</td>\n",
       "    </tr>\n",
       "    <tr>\n",
       "      <th>278</th>\n",
       "      <td>MIDWOOD HIGH SCHOOL</td>\n",
       "      <td>1107.522769</td>\n",
       "    </tr>\n",
       "    <tr>\n",
       "      <th>306</th>\n",
       "      <td>BENJAMIN N. CARDOZO HIGH SCHOOL</td>\n",
       "      <td>910.735739</td>\n",
       "    </tr>\n",
       "  </tbody>\n",
       "</table>\n",
       "</div>"
      ],
      "text/plain": [
       "                         school_name       sscore\n",
       "189   BROOKLYN TECHNICAL HIGH SCHOOL  2028.291302\n",
       "37            STUYVESANT HIGH SCHOOL  1475.827203\n",
       "153     BRONX HIGH SCHOOL OF SCIENCE  1329.208243\n",
       "278              MIDWOOD HIGH SCHOOL  1107.522769\n",
       "306  BENJAMIN N. CARDOZO HIGH SCHOOL   910.735739"
      ]
     },
     "execution_count": 168,
     "metadata": {},
     "output_type": "execute_result"
    }
   ],
   "source": [
    "school_scores.loc[school_scores['sscore'].sort_values(ascending=False).head().index,['school_name','sscore']]"
   ]
  },
  {
   "cell_type": "code",
   "execution_count": 169,
   "metadata": {
    "collapsed": true
   },
   "outputs": [],
   "source": [
    "combined['sscore'] = school_scores['sscore']"
   ]
  },
  {
   "cell_type": "code",
   "execution_count": 170,
   "metadata": {
    "collapsed": true
   },
   "outputs": [],
   "source": [
    "grouped = combined.groupby('school_dist').agg(numpy.mean)\n",
    "grouped.reset_index(inplace=True)"
   ]
  },
  {
   "cell_type": "code",
   "execution_count": 171,
   "metadata": {
    "collapsed": false
   },
   "outputs": [
    {
     "data": {
      "text/plain": [
       "<matplotlib.collections.PathCollection at 0x7f787f9ebd68>"
      ]
     },
     "execution_count": 171,
     "metadata": {},
     "output_type": "execute_result"
    },
    {
     "data": {
      "image/png": "[encoded data removed]",
      "text/plain": [
       "<matplotlib.figure.Figure at 0x7f7880480128>"
      ]
     },
     "metadata": {},
     "output_type": "display_data"
    }
   ],
   "source": [
    "m = Basemap(\n",
    "    projection='merc', \n",
    "    llcrnrlat=40.496044, \n",
    "    urcrnrlat=40.915256, \n",
    "    llcrnrlon=-74.255735, \n",
    "    urcrnrlon=-73.700272,\n",
    "    resolution='i'\n",
    ")\n",
    "m.drawmapboundary(fill_color='#85A6D9')\n",
    "m.drawcoastlines(color='#6D5F47', linewidth=.6)\n",
    "m.drawrivers(color='#6D5F47', linewidth=.4)\n",
    "\n",
    "longitudes = grouped['lon'].tolist()\n",
    "latitudes = grouped['lat'].tolist()\n",
    "\n",
    "m.scatter(longitudes, latitudes, s=50, zorder=2, latlon=True, c=grouped['sscore'], cmap='summer')"
   ]
  },
  {
   "cell_type": "code",
   "execution_count": 175,
   "metadata": {
    "collapsed": false,
    "scrolled": true
   },
   "outputs": [
    {
     "data": {
      "text/plain": [
       "21    481.943347\n",
       "25    452.664434\n",
       "30    302.796706\n",
       "27    247.179159\n",
       "20    225.490379\n",
       "Name: sscore, dtype: float64"
      ]
     },
     "execution_count": 175,
     "metadata": {},
     "output_type": "execute_result"
    }
   ],
   "source": [
    "grouped['sscore'].sort_values(ascending=False).head()"
   ]
  },
  {
   "cell_type": "markdown",
   "metadata": {},
   "source": [
    "## Observations\n",
    "\n",
    "* The districts with the best school score (sscore) based of different criteria. like safety, AP tests and race percentaje, which highly correlate to better SAT scores.\n",
    "* Districts with the best sscore are surprisingly in Queens and Brooklyn, Manhattan actually is below the previous bouroughs.\n",
    "* Highest sscore is found in Brooklyn School District 21.\n",
    "* Worst districts with low sscores are found in Manhattan, this is rare since schools here are considered to be top notch schools. "
   ]
  },
  {
   "cell_type": "code",
   "execution_count": null,
   "metadata": {
    "collapsed": true
   },
   "outputs": [],
   "source": []
  }
 ],
 "metadata": {
  "kernelspec": {
   "display_name": "Python 3",
   "language": "python",
   "name": "python3"
  },
  "language_info": {
   "codemirror_mode": {
    "name": "ipython",
    "version": 3
   },
   "file_extension": ".py",
   "mimetype": "text/x-python",
   "name": "python",
   "nbconvert_exporter": "python",
   "pygments_lexer": "ipython3",
   "version": "3.6.8"
  }
 },
 "nbformat": 4,
 "nbformat_minor": 2
}
